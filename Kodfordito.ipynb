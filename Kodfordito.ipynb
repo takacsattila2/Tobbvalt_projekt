{
 "cells": [
  {
   "cell_type": "code",
   "execution_count": 1,
   "metadata": {},
   "outputs": [],
   "source": [
    "Morsekod = { 'A':'.-', 'B':'-...', \n",
    "             'C':'-.-.', 'D':'-..', 'E':'.', \n",
    "             'F':'..-.', 'G':'--.', 'H':'....', \n",
    "             'I':'..', 'J':'.---', 'K':'-.-', \n",
    "             'L':'.-..', 'M':'--', 'N':'-.', \n",
    "             'O':'---', 'P':'.--.', 'Q':'--.-', \n",
    "             'R':'.-.', 'S':'...', 'T':'-', \n",
    "             'U':'..-', 'V':'...-', 'W':'.--', \n",
    "             'X':'-..-', 'Y':'-.--', 'Z':'--..', \n",
    "             '1':'.----', '2':'..---', '3':'...--', \n",
    "             '4':'....-', '5':'.....', '6':'-....', \n",
    "             '7':'--...', '8':'---..', '9':'----.', \n",
    "             '0':'-----', ', ':'--..--', '.':'.-.-.-', \n",
    "             '?':'..--..', '/':'-..-.', '-':'-....-', \n",
    "             '(':'-.--.', ')':'-.--.-'}"
   ]
  },
  {
   "cell_type": "code",
   "execution_count": 2,
   "metadata": {},
   "outputs": [],
   "source": [
    "# az üzenetben a betűk között egy spacenek, a szavak között kettőnek kell lennie\n",
    "def fordito(uzenet):\n",
    "    if(uzenet == ''):\n",
    "        return\n",
    "    uzenet += ' ' #hozzá kell adni egy space-t az üzenethez, hogy a végén ki tudjon lépni a for ciklusból\n",
    "    kimenet = ''\n",
    "    betu = '' #egy-egy betű kódját tároljuk ebben\n",
    "    space = 0 #a space-k számlálója\n",
    "\n",
    "    \n",
    "    for karakter in uzenet: #végigmegy egyenként az összes karakteren\n",
    "        \n",
    "        if (karakter != ' '): \n",
    "            betu += karakter #ha nem space van akkor az egy betű része, ezért le kell tárolni, hogy \n",
    "            space = 0 #lenullázzuk a számlálót\n",
    "        else:\n",
    "            space += 1 #space esetén hozzáadunk egyet a számlálóhoz\n",
    "            if (space == 1): #ha egy space van, akkor az egy betűnek a vége\n",
    "                kimenet += list(Morsekod.keys())[list(Morsekod.values()).index(betu)] #kiolvassuk a betűt a listából\n",
    "                betu = '' #nullázzuk a betű változót\n",
    "            else: # a másik eset, ha ezelőtt már volt egy space, ekkor agy szó végéhez értünk\n",
    "                kimenet += ' ' #a kimenetben a szavakat elválasztó space\n",
    "                \n",
    "    return kimenet"
   ]
  },
  {
   "cell_type": "code",
   "execution_count": 3,
   "metadata": {},
   "outputs": [],
   "source": [
    "def kodolo(uzenet):\n",
    "    kimenet = ''\n",
    "    \n",
    "    for karakter in uzenet: #végig megyünk a lefordítandó üzeneten\n",
    "        \n",
    "        if(karakter != ' '): #ha nem space van az üzenetben, akkor egy betű\n",
    "            kimenet += Morsekod[karakter] #ezt a betűt kódoljuk és \n",
    "            kimenet += ' '\n",
    "        else:\n",
    "            kimenet += '  '\n",
    "    return kimenet"
   ]
  },
  {
   "cell_type": "code",
   "execution_count": null,
   "metadata": {},
   "outputs": [],
   "source": []
  }
 ],
 "metadata": {
  "kernelspec": {
   "display_name": "Python 3",
   "language": "python",
   "name": "python3"
  },
  "language_info": {
   "codemirror_mode": {
    "name": "ipython",
    "version": 3
   },
   "file_extension": ".py",
   "mimetype": "text/x-python",
   "name": "python",
   "nbconvert_exporter": "python",
   "pygments_lexer": "ipython3",
   "version": "3.7.4"
  }
 },
 "nbformat": 4,
 "nbformat_minor": 2
}
